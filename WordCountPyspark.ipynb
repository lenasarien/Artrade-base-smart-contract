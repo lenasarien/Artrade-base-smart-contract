{
  "nbformat": 4,
  "nbformat_minor": 0,
  "metadata": {
    "colab": {
      "provenance": [],
      "authorship_tag": "ABX9TyMNNf0NGjPAblsGP3woFpjj",
      "include_colab_link": true
    },
    "kernelspec": {
      "name": "python3",
      "display_name": "Python 3"
    },
    "language_info": {
      "name": "python"
    }
  },
  "cells": [
    {
      "cell_type": "markdown",
      "metadata": {
        "id": "view-in-github",
        "colab_type": "text"
      },
      "source": [
        "<a href=\"https://colab.research.google.com/github/lenasarien/Artrade-base-smart-contract/blob/main/WordCountPyspark.ipynb\" target=\"_parent\"><img src=\"https://colab.research.google.com/assets/colab-badge.svg\" alt=\"Open In Colab\"/></a>"
      ]
    },
    {
      "cell_type": "code",
      "execution_count": null,
      "metadata": {
        "colab": {
          "base_uri": "https://localhost:8080/",
          "height": 424
        },
        "id": "NcWJeS4Za6xJ",
        "outputId": "116b9e3e-15d1-49af-a8fc-0ab10b5035ec"
      },
      "outputs": [
        {
          "output_type": "stream",
          "name": "stdout",
          "text": [
            "Collecting pyspark\n",
            "  Downloading pyspark-3.5.1.tar.gz (317.0 MB)\n",
            "\u001b[2K     \u001b[90m━━━━━━━━━━━━━━━━━━━━━━━━━━━━━━━━━━━━━━━━\u001b[0m \u001b[32m317.0/317.0 MB\u001b[0m \u001b[31m4.4 MB/s\u001b[0m eta \u001b[36m0:00:00\u001b[0m\n",
            "\u001b[?25h  Preparing metadata (setup.py) ... \u001b[?25l\u001b[?25hdone\n",
            "Requirement already satisfied: py4j==0.10.9.7 in /usr/local/lib/python3.10/dist-packages (from pyspark) (0.10.9.7)\n",
            "Building wheels for collected packages: pyspark\n",
            "  Building wheel for pyspark (setup.py) ... \u001b[?25l\u001b[?25hdone\n",
            "  Created wheel for pyspark: filename=pyspark-3.5.1-py2.py3-none-any.whl size=317488491 sha256=6480690ef37ae5f82db9b0a8ab1b02997207f6d0dc6f5378d97f54f2e1f3deb1\n",
            "  Stored in directory: /root/.cache/pip/wheels/80/1d/60/2c256ed38dddce2fdd93be545214a63e02fbd8d74fb0b7f3a6\n",
            "Successfully built pyspark\n",
            "Installing collected packages: pyspark\n",
            "Successfully installed pyspark-3.5.1\n"
          ]
        },
        {
          "output_type": "execute_result",
          "data": {
            "text/plain": [
              "<SparkContext master=local[*] appName=WordCountPyspark>"
            ],
            "text/html": [
              "\n",
              "        <div>\n",
              "            <p><b>SparkContext</b></p>\n",
              "\n",
              "            <p><a href=\"http://3d194bc6d3d7:4040\">Spark UI</a></p>\n",
              "\n",
              "            <dl>\n",
              "              <dt>Version</dt>\n",
              "                <dd><code>v3.5.1</code></dd>\n",
              "              <dt>Master</dt>\n",
              "                <dd><code>local[*]</code></dd>\n",
              "              <dt>AppName</dt>\n",
              "                <dd><code>WordCountPyspark</code></dd>\n",
              "            </dl>\n",
              "        </div>\n",
              "        "
            ]
          },
          "metadata": {},
          "execution_count": 2
        }
      ],
      "source": [
        "# create entry points to\n",
        "!pip install pyspark\n",
        "from pyspark import SparkContext, SparkConf\n",
        "from pyspark.sql import SparkSession\n",
        "\n",
        "spark = SparkSession \\\n",
        "        .builder \\\n",
        "        .appName(\"WordCountPyspark\") \\\n",
        "        .config(\"spark.some.config.option\", \"some-value\") \\\n",
        "        .getOrCreate()\n",
        "\n",
        "sc = spark.sparkContext\n",
        "sc"
      ]
    },
    {
      "cell_type": "code",
      "source": [
        "print(sc.version)"
      ],
      "metadata": {
        "colab": {
          "base_uri": "https://localhost:8080/"
        },
        "id": "lZjCpH2qbg12",
        "outputId": "512a28ef-4dab-4f65-c335-a458664d0952"
      },
      "execution_count": 6,
      "outputs": [
        {
          "output_type": "stream",
          "name": "stdout",
          "text": [
            "3.5.1\n"
          ]
        }
      ]
    },
    {
      "cell_type": "code",
      "source": [
        "#Etape 1 - Créer un RDD à partir d'un ou plusieur fichiers texte\n",
        "\n",
        "docs = sc.textFile(\"./*.txt\")\n",
        "docs.collect()"
      ],
      "metadata": {
        "colab": {
          "base_uri": "https://localhost:8080/"
        },
        "id": "tBZC1ciedXVW",
        "outputId": "a189abcf-ac78-4760-a1aa-1c0a17920d04"
      },
      "execution_count": 32,
      "outputs": [
        {
          "output_type": "execute_result",
          "data": {
            "text/plain": [
              "[\"(3, 'je')\",\n",
              " \"(3, 'de')\",\n",
              " \"(2, 'world')\",\n",
              " \"(2, 'suis')\",\n",
              " \"(2, 'en')\",\n",
              " \"(2, 'hello')\",\n",
              " \"(2, 'spark')\",\n",
              " \"(1, '!')\",\n",
              " \"(1, '?')\",\n",
              " \"(1, 'cup')\",\n",
              " \"(1, 'master')\",\n",
              " \"(1, 'tout')\",\n",
              " \"(1, 'le')\",\n",
              " \"(1, 'monde')\",\n",
              " \"(1, 'test')\",\n",
              " \"(1, 'à')\",\n",
              " \"(1, 'mon')\",\n",
              " \"(1, 'premier')\",\n",
              " \"(1, 'avec')\",\n",
              " \"(1, 'python')\",\n",
              " \"(1, 'comment')\",\n",
              " \"(1, 'allez')\",\n",
              " \"(1, 'vous')\",\n",
              " \"(1, 'étudiant')\",\n",
              " \"(1, '2')\",\n",
              " \"(1, 'analyse')\",\n",
              " \"(1, 'données')\",\n",
              " \"(1, 'plein')\",\n",
              " \"(1, 'fonctionnement')\",\n",
              " \"(1, 'cherche')\",\n",
              " \"(1, 'exécuter')\",\n",
              " \"(1, 'code')\",\n",
              " 'Hello World ! Comment allez vous ? world cup Je suis étudiant en master 2 analyse de données hello tout le monde je Suis en plein test de fonctionnement de spark Je cherche à exécuter mon premier code spark avec python']"
            ]
          },
          "metadata": {},
          "execution_count": 32
        }
      ]
    },
    {
      "cell_type": "code",
      "source": [
        "#Etape 2 - Convertir les lignes en minuscule\n",
        "minuscule = docs.map(lambda line: line.lower())\n",
        "minuscule.collect()"
      ],
      "metadata": {
        "colab": {
          "base_uri": "https://localhost:8080/"
        },
        "id": "a3-Cu9j2nwub",
        "outputId": "337837d1-3fd8-4a22-86aa-cc95c3d3862d"
      },
      "execution_count": 33,
      "outputs": [
        {
          "output_type": "execute_result",
          "data": {
            "text/plain": [
              "[\"(3, 'je')\",\n",
              " \"(3, 'de')\",\n",
              " \"(2, 'world')\",\n",
              " \"(2, 'suis')\",\n",
              " \"(2, 'en')\",\n",
              " \"(2, 'hello')\",\n",
              " \"(2, 'spark')\",\n",
              " \"(1, '!')\",\n",
              " \"(1, '?')\",\n",
              " \"(1, 'cup')\",\n",
              " \"(1, 'master')\",\n",
              " \"(1, 'tout')\",\n",
              " \"(1, 'le')\",\n",
              " \"(1, 'monde')\",\n",
              " \"(1, 'test')\",\n",
              " \"(1, 'à')\",\n",
              " \"(1, 'mon')\",\n",
              " \"(1, 'premier')\",\n",
              " \"(1, 'avec')\",\n",
              " \"(1, 'python')\",\n",
              " \"(1, 'comment')\",\n",
              " \"(1, 'allez')\",\n",
              " \"(1, 'vous')\",\n",
              " \"(1, 'étudiant')\",\n",
              " \"(1, '2')\",\n",
              " \"(1, 'analyse')\",\n",
              " \"(1, 'données')\",\n",
              " \"(1, 'plein')\",\n",
              " \"(1, 'fonctionnement')\",\n",
              " \"(1, 'cherche')\",\n",
              " \"(1, 'exécuter')\",\n",
              " \"(1, 'code')\",\n",
              " 'hello world ! comment allez vous ? world cup je suis étudiant en master 2 analyse de données hello tout le monde je suis en plein test de fonctionnement de spark je cherche à exécuter mon premier code spark avec python']"
            ]
          },
          "metadata": {},
          "execution_count": 33
        }
      ]
    },
    {
      "cell_type": "code",
      "source": [
        "#Etape 3 - Séparer les lignes en mots\n",
        "mot_sep = minuscule.flatMap(lambda line: line.split(\" \"))\n",
        "mot_sep.collect()"
      ],
      "metadata": {
        "colab": {
          "base_uri": "https://localhost:8080/"
        },
        "id": "mpHO3i-NoYr_",
        "outputId": "83cd3424-3ed9-4234-e77c-aa523fada8bc"
      },
      "execution_count": 35,
      "outputs": [
        {
          "output_type": "execute_result",
          "data": {
            "text/plain": [
              "['(3,',\n",
              " \"'je')\",\n",
              " '(3,',\n",
              " \"'de')\",\n",
              " '(2,',\n",
              " \"'world')\",\n",
              " '(2,',\n",
              " \"'suis')\",\n",
              " '(2,',\n",
              " \"'en')\",\n",
              " '(2,',\n",
              " \"'hello')\",\n",
              " '(2,',\n",
              " \"'spark')\",\n",
              " '(1,',\n",
              " \"'!')\",\n",
              " '(1,',\n",
              " \"'?')\",\n",
              " '(1,',\n",
              " \"'cup')\",\n",
              " '(1,',\n",
              " \"'master')\",\n",
              " '(1,',\n",
              " \"'tout')\",\n",
              " '(1,',\n",
              " \"'le')\",\n",
              " '(1,',\n",
              " \"'monde')\",\n",
              " '(1,',\n",
              " \"'test')\",\n",
              " '(1,',\n",
              " \"'à')\",\n",
              " '(1,',\n",
              " \"'mon')\",\n",
              " '(1,',\n",
              " \"'premier')\",\n",
              " '(1,',\n",
              " \"'avec')\",\n",
              " '(1,',\n",
              " \"'python')\",\n",
              " '(1,',\n",
              " \"'comment')\",\n",
              " '(1,',\n",
              " \"'allez')\",\n",
              " '(1,',\n",
              " \"'vous')\",\n",
              " '(1,',\n",
              " \"'étudiant')\",\n",
              " '(1,',\n",
              " \"'2')\",\n",
              " '(1,',\n",
              " \"'analyse')\",\n",
              " '(1,',\n",
              " \"'données')\",\n",
              " '(1,',\n",
              " \"'plein')\",\n",
              " '(1,',\n",
              " \"'fonctionnement')\",\n",
              " '(1,',\n",
              " \"'cherche')\",\n",
              " '(1,',\n",
              " \"'exécuter')\",\n",
              " '(1,',\n",
              " \"'code')\",\n",
              " 'hello',\n",
              " 'world',\n",
              " '!',\n",
              " 'comment',\n",
              " 'allez',\n",
              " 'vous',\n",
              " '?',\n",
              " 'world',\n",
              " 'cup',\n",
              " 'je',\n",
              " 'suis',\n",
              " 'étudiant',\n",
              " 'en',\n",
              " 'master',\n",
              " '2',\n",
              " 'analyse',\n",
              " 'de',\n",
              " 'données',\n",
              " 'hello',\n",
              " 'tout',\n",
              " 'le',\n",
              " 'monde',\n",
              " 'je',\n",
              " 'suis',\n",
              " 'en',\n",
              " 'plein',\n",
              " 'test',\n",
              " 'de',\n",
              " 'fonctionnement',\n",
              " 'de',\n",
              " 'spark',\n",
              " 'je',\n",
              " 'cherche',\n",
              " 'à',\n",
              " 'exécuter',\n",
              " 'mon',\n",
              " 'premier',\n",
              " 'code',\n",
              " 'spark',\n",
              " 'avec',\n",
              " 'python']"
            ]
          },
          "metadata": {},
          "execution_count": 35
        }
      ]
    },
    {
      "cell_type": "code",
      "source": [
        "#Etape 4 - produire les tuples (mot, 1)\n",
        "mot_num = mot_sep.map(lambda mot : (mot,1))"
      ],
      "metadata": {
        "id": "Da5ok5j-ogdZ"
      },
      "execution_count": 36,
      "outputs": []
    },
    {
      "cell_type": "code",
      "source": [
        "#Etape 5 - Compter tous les mots\n",
        "freq_mot = mot_num.reduceByKey(lambda a,b : a + b)\n",
        "freq_mot.collect()"
      ],
      "metadata": {
        "colab": {
          "base_uri": "https://localhost:8080/"
        },
        "id": "eKkpcBneomdW",
        "outputId": "fced7aaf-f586-47c6-8b86-6c14ea74d04e"
      },
      "execution_count": 37,
      "outputs": [
        {
          "output_type": "execute_result",
          "data": {
            "text/plain": [
              "[(\"'je')\", 1),\n",
              " (\"'suis')\", 1),\n",
              " (\"'en')\", 1),\n",
              " (\"'hello')\", 1),\n",
              " (\"'spark')\", 1),\n",
              " (\"'?')\", 1),\n",
              " (\"'master')\", 1),\n",
              " (\"'le')\", 1),\n",
              " (\"'monde')\", 1),\n",
              " (\"'avec')\", 1),\n",
              " (\"'2')\", 1),\n",
              " (\"'analyse')\", 1),\n",
              " (\"'données')\", 1),\n",
              " (\"'plein')\", 1),\n",
              " ('vous', 1),\n",
              " ('?', 1),\n",
              " ('master', 1),\n",
              " ('2', 1),\n",
              " ('analyse', 1),\n",
              " ('de', 3),\n",
              " ('plein', 1),\n",
              " ('fonctionnement', 1),\n",
              " ('cherche', 1),\n",
              " ('exécuter', 1),\n",
              " ('python', 1),\n",
              " ('(3,', 2),\n",
              " (\"'de')\", 1),\n",
              " ('(1,', 25),\n",
              " (\"'cup')\", 1),\n",
              " (\"'tout')\", 1),\n",
              " (\"'test')\", 1),\n",
              " (\"'mon')\", 1),\n",
              " (\"'python')\", 1),\n",
              " (\"'comment')\", 1),\n",
              " (\"'vous')\", 1),\n",
              " (\"'code')\", 1),\n",
              " ('hello', 2),\n",
              " ('world', 2),\n",
              " ('!', 1),\n",
              " ('cup', 1),\n",
              " ('étudiant', 1),\n",
              " ('en', 2),\n",
              " ('tout', 1),\n",
              " ('à', 1),\n",
              " ('mon', 1),\n",
              " ('avec', 1),\n",
              " ('(2,', 5),\n",
              " (\"'world')\", 1),\n",
              " (\"'!')\", 1),\n",
              " (\"'à')\", 1),\n",
              " (\"'premier')\", 1),\n",
              " (\"'allez')\", 1),\n",
              " (\"'étudiant')\", 1),\n",
              " (\"'fonctionnement')\", 1),\n",
              " (\"'cherche')\", 1),\n",
              " (\"'exécuter')\", 1),\n",
              " ('comment', 1),\n",
              " ('allez', 1),\n",
              " ('je', 3),\n",
              " ('suis', 2),\n",
              " ('données', 1),\n",
              " ('le', 1),\n",
              " ('monde', 1),\n",
              " ('test', 1),\n",
              " ('spark', 2),\n",
              " ('premier', 1),\n",
              " ('code', 1)]"
            ]
          },
          "metadata": {},
          "execution_count": 37
        }
      ]
    },
    {
      "cell_type": "code",
      "source": [
        "#Etape 6 - Inverser les tuples (transformation avec swap)\n",
        "occurence = freq_mot.map(lambda mot : (mot[1], mot[0]))\n",
        "occurence.collect()"
      ],
      "metadata": {
        "colab": {
          "base_uri": "https://localhost:8080/"
        },
        "id": "-iq9fdjIosIe",
        "outputId": "38128bbf-b117-4ecd-cbf5-ba9e100b0dc9"
      },
      "execution_count": 38,
      "outputs": [
        {
          "output_type": "execute_result",
          "data": {
            "text/plain": [
              "[(1, \"'je')\"),\n",
              " (1, \"'suis')\"),\n",
              " (1, \"'en')\"),\n",
              " (1, \"'hello')\"),\n",
              " (1, \"'spark')\"),\n",
              " (1, \"'?')\"),\n",
              " (1, \"'master')\"),\n",
              " (1, \"'le')\"),\n",
              " (1, \"'monde')\"),\n",
              " (1, \"'avec')\"),\n",
              " (1, \"'2')\"),\n",
              " (1, \"'analyse')\"),\n",
              " (1, \"'données')\"),\n",
              " (1, \"'plein')\"),\n",
              " (1, 'vous'),\n",
              " (1, '?'),\n",
              " (1, 'master'),\n",
              " (1, '2'),\n",
              " (1, 'analyse'),\n",
              " (3, 'de'),\n",
              " (1, 'plein'),\n",
              " (1, 'fonctionnement'),\n",
              " (1, 'cherche'),\n",
              " (1, 'exécuter'),\n",
              " (1, 'python'),\n",
              " (2, '(3,'),\n",
              " (1, \"'de')\"),\n",
              " (25, '(1,'),\n",
              " (1, \"'cup')\"),\n",
              " (1, \"'tout')\"),\n",
              " (1, \"'test')\"),\n",
              " (1, \"'mon')\"),\n",
              " (1, \"'python')\"),\n",
              " (1, \"'comment')\"),\n",
              " (1, \"'vous')\"),\n",
              " (1, \"'code')\"),\n",
              " (2, 'hello'),\n",
              " (2, 'world'),\n",
              " (1, '!'),\n",
              " (1, 'cup'),\n",
              " (1, 'étudiant'),\n",
              " (2, 'en'),\n",
              " (1, 'tout'),\n",
              " (1, 'à'),\n",
              " (1, 'mon'),\n",
              " (1, 'avec'),\n",
              " (5, '(2,'),\n",
              " (1, \"'world')\"),\n",
              " (1, \"'!')\"),\n",
              " (1, \"'à')\"),\n",
              " (1, \"'premier')\"),\n",
              " (1, \"'allez')\"),\n",
              " (1, \"'étudiant')\"),\n",
              " (1, \"'fonctionnement')\"),\n",
              " (1, \"'cherche')\"),\n",
              " (1, \"'exécuter')\"),\n",
              " (1, 'comment'),\n",
              " (1, 'allez'),\n",
              " (3, 'je'),\n",
              " (2, 'suis'),\n",
              " (1, 'données'),\n",
              " (1, 'le'),\n",
              " (1, 'monde'),\n",
              " (1, 'test'),\n",
              " (2, 'spark'),\n",
              " (1, 'premier'),\n",
              " (1, 'code')]"
            ]
          },
          "metadata": {},
          "execution_count": 38
        }
      ]
    },
    {
      "cell_type": "code",
      "source": [
        "## Etape è - Trier les tuples par fréquence décroissante\n",
        "occurrence_triee = occurence.sortByKey(ascending=False)\n",
        "occurrence_triee.collect()"
      ],
      "metadata": {
        "colab": {
          "base_uri": "https://localhost:8080/"
        },
        "id": "zMTKXy4Oox9O",
        "outputId": "7f934f85-3cd2-45ea-9b89-ca9f4734c890"
      },
      "execution_count": 39,
      "outputs": [
        {
          "output_type": "execute_result",
          "data": {
            "text/plain": [
              "[(25, '(1,'),\n",
              " (5, '(2,'),\n",
              " (3, 'de'),\n",
              " (3, 'je'),\n",
              " (2, '(3,'),\n",
              " (2, 'hello'),\n",
              " (2, 'world'),\n",
              " (2, 'en'),\n",
              " (2, 'suis'),\n",
              " (2, 'spark'),\n",
              " (1, \"'je')\"),\n",
              " (1, \"'suis')\"),\n",
              " (1, \"'en')\"),\n",
              " (1, \"'hello')\"),\n",
              " (1, \"'spark')\"),\n",
              " (1, \"'?')\"),\n",
              " (1, \"'master')\"),\n",
              " (1, \"'le')\"),\n",
              " (1, \"'monde')\"),\n",
              " (1, \"'avec')\"),\n",
              " (1, \"'2')\"),\n",
              " (1, \"'analyse')\"),\n",
              " (1, \"'données')\"),\n",
              " (1, \"'plein')\"),\n",
              " (1, 'vous'),\n",
              " (1, '?'),\n",
              " (1, 'master'),\n",
              " (1, '2'),\n",
              " (1, 'analyse'),\n",
              " (1, 'plein'),\n",
              " (1, 'fonctionnement'),\n",
              " (1, 'cherche'),\n",
              " (1, 'exécuter'),\n",
              " (1, 'python'),\n",
              " (1, \"'de')\"),\n",
              " (1, \"'cup')\"),\n",
              " (1, \"'tout')\"),\n",
              " (1, \"'test')\"),\n",
              " (1, \"'mon')\"),\n",
              " (1, \"'python')\"),\n",
              " (1, \"'comment')\"),\n",
              " (1, \"'vous')\"),\n",
              " (1, \"'code')\"),\n",
              " (1, '!'),\n",
              " (1, 'cup'),\n",
              " (1, 'étudiant'),\n",
              " (1, 'tout'),\n",
              " (1, 'à'),\n",
              " (1, 'mon'),\n",
              " (1, 'avec'),\n",
              " (1, \"'world')\"),\n",
              " (1, \"'!')\"),\n",
              " (1, \"'à')\"),\n",
              " (1, \"'premier')\"),\n",
              " (1, \"'allez')\"),\n",
              " (1, \"'étudiant')\"),\n",
              " (1, \"'fonctionnement')\"),\n",
              " (1, \"'cherche')\"),\n",
              " (1, \"'exécuter')\"),\n",
              " (1, 'comment'),\n",
              " (1, 'allez'),\n",
              " (1, 'données'),\n",
              " (1, 'le'),\n",
              " (1, 'monde'),\n",
              " (1, 'test'),\n",
              " (1, 'premier'),\n",
              " (1, 'code')]"
            ]
          },
          "metadata": {},
          "execution_count": 39
        }
      ]
    },
    {
      "cell_type": "code",
      "source": [
        "occurrence_triee.saveAsTextFile(\"Output.txt\")"
      ],
      "metadata": {
        "id": "vYQoHoxaw17w"
      },
      "execution_count": 30,
      "outputs": []
    }
  ]
}